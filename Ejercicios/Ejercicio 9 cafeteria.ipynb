{
 "cells": [
  {
   "cell_type": "markdown",
   "id": "5f65f8c9-579e-4c76-979c-396473058e54",
   "metadata": {},
   "source": [
    "# Ejercicio 9: Cafetería usando excepciones y loggings\n",
    "\n",
    "Creamos una cafeteria que tendrá los objetos:\n",
    "- Camarero (nombre y servirá café)\n",
    "- Cliente (nombre y tomará tazas de café)\n",
    "- Taza café (con tipo y temperatura)\n",
    "- Bar (aquí será donde el cliente beberá el café y saldrán las alertas de si está muy frío o caliente)\n",
    "\n",
    "Excepciones:\n",
    "- TemeperatureException --> Exception\n",
    "- TooHotTemperatureException --> TemeperatureException\n",
    "- TooColdTemperatureException --> TemeperatureException"
   ]
  },
  {
   "cell_type": "code",
   "execution_count": 2,
   "id": "25a72d3c-b617-4ea1-9036-ed71eb853602",
   "metadata": {},
   "outputs": [],
   "source": [
    "#importamos todas las librerías que vamos a usar\n",
    "from abc import ABC\n",
    "import logging as log\n",
    "import random\n",
    "\n",
    "\n",
    "class Persona(): #va a ser abstract\n",
    "    pass"
   ]
  }
 ],
 "metadata": {
  "kernelspec": {
   "display_name": "Python 3 (ipykernel)",
   "language": "python",
   "name": "python3"
  },
  "language_info": {
   "codemirror_mode": {
    "name": "ipython",
    "version": 3
   },
   "file_extension": ".py",
   "mimetype": "text/x-python",
   "name": "python",
   "nbconvert_exporter": "python",
   "pygments_lexer": "ipython3",
   "version": "3.9.13"
  }
 },
 "nbformat": 4,
 "nbformat_minor": 5
}
