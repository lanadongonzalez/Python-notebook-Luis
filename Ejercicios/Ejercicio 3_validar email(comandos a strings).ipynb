{
 "cells": [
  {
   "cell_type": "markdown",
   "id": "7e12fb42-3c5d-475b-87b5-3ad94e9cb433",
   "metadata": {},
   "source": [
    "## Ejercicio 3\n",
    "\n",
    "2. Validar email --> \n",
    "lista con 3 emails, validar cada uno de los emails, si un email no es valido vais a indicar que no es correcto y los motivos por los que no es correcto\n",
    "- no puede tener espacios en blanco\n",
    "- debe tener 1 @\n",
    "- despues de la @ tiene que haber al menos 1 punto\n",
    "- la distancia entre la @ y el punto tiene que ser al menos de 2 caracteres\n",
    "- despues del ultimo punto tiene que haber entre 2 y 5 caracteres"
   ]
  },
  {
   "cell_type": "code",
   "execution_count": null,
   "id": "0d87cb3e-ef6b-4033-ab6c-23af2f2978de",
   "metadata": {},
   "outputs": [],
   "source": [
    "opcion = 0\n",
    "\n",
    "while opcion != '4':\n",
    "    print(\"¿Qué opción desea ejecutar? Por favor, escriba el número correspondiente\\n 1. Pintar un cuadrado\\n 2. Validar email\\n 3. Insertar alumno\\n 4. Salir\")\n",
    "    opcion = input()\n",
    "    \n",
    "    if opcion == '1':   #Si el usuario elige esta opción, pintaremos un cuadradado\n",
    "        print(\"Has seleccionado la opción 1\")\n",
    "        size = int(input(\"Indique el tamaño del cuadrado\"))   #Este es el tamaño del lado del cuadrado\n",
    "        caracter = input(\"Indique el caracter deseado para el lado\" )   #Con qué caracter dibujaremos el cuadrado\n",
    "        for i in range(size):\n",
    "            if (i == 0) or (i == size - 1):    #Para la \"tapa\" y la \"base\", dibujamos los caracteres seleccionados en size\n",
    "                print(size*caracter)\n",
    "            else:\n",
    "                print(caracter + (size-2)*' ' + caracter)   #En el interios no queremos dibujar caracteres, por eso lo rellenamos con espacion en blanco\n",
    "\n",
    "                \n",
    "    elif opcion == '2':   #Esta es la opción de validar email\n",
    "        lista_mail = [\"lalal @gogo@asd.hfh.s\", \"lana@gmail.com\", \"sdfh@dskfjskmg.eee\"]  #Metemos unos cuantos emails a mano (erróneos a propósito\n",
    "        print(\"Has seleccionado la opción 2\")   \n",
    "        for email in lista_mail:     #Recorremos la lista de emails\n",
    "            email = email.strip()    #Quitamos los espacion en blanco del principio o final \n",
    "            print(\"Validando email \", email)  #Metemos esta linea para saber con qué email estamos trabajando\n",
    "            errores = \"\"             #En esta variable recogeremos todos los errores detectados\n",
    "            \n",
    "            if email.count(\" \") > 0:  #Error de tener espacios en blanco\n",
    "                errores += \"\\nEste email tiene espacios en blanco.\\n\"\n",
    "            if not email.count(\"@\") == 1: #Error de tener más (o menos) @ de los necesarios\n",
    "                errores += \"Debe de haber una @.\\n\"\n",
    "            if not email.split(\"@\")[-1].count(\".\")>=1:   #Si hay más de un punto después del @\n",
    "                errores += \"Despues de la @ tiene que haber un punto.\\n\"\n",
    "            if not email[ email.find(\"@\")+1 :  ].find(\".\")>2:  #Si la distancia enttre el @ y el punto no es mayor que dos\n",
    "                errores += \"La distancia entre la @ y el primer punto despues de la @ debe ser mayor de 2.\\n\" \n",
    "            if len(email.split(\".\")[-1])<2 or len(email.split(\".\")[-1])>5: #El subdominio tiene que tener entre dos y cinco caracteres\n",
    "                errores += \"El subdominio del email debe estar entre 2 y 5.\\n\"\n",
    "                \n",
    "            if (errores==\"\"):\n",
    "                print(\"El email \"+ email +\" es correcto.\")\n",
    "            else:\n",
    "                print(\"El email \"+ email +\" no es correcto:\\n \" + errores)\n",
    "            \n",
    "            \n",
    "    elif opcion == '3':\n",
    "        print(\"Has seleccionado la opción 3\")\n",
    "        \n",
    "        \n",
    "    elif opcion == '4':\n",
    "        print(\"Has seleccionado la opción 4. ¡Adios!\")\n",
    "        \n",
    "        \n",
    "    else: \n",
    "        print(\"Seleccione una opción correcta\")"
   ]
  },
  {
   "cell_type": "code",
   "execution_count": null,
   "id": "0ad00b03-116d-4d15-a968-c9e05c864191",
   "metadata": {},
   "outputs": [],
   "source": [
    "4\n"
   ]
  }
 ],
 "metadata": {
  "kernelspec": {
   "display_name": "Python 3 (ipykernel)",
   "language": "python",
   "name": "python3"
  },
  "language_info": {
   "codemirror_mode": {
    "name": "ipython",
    "version": 3
   },
   "file_extension": ".py",
   "mimetype": "text/x-python",
   "name": "python",
   "nbconvert_exporter": "python",
   "pygments_lexer": "ipython3",
   "version": "3.9.13"
  }
 },
 "nbformat": 4,
 "nbformat_minor": 5
}
