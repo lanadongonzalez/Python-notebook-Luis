{
 "cells": [
  {
   "cell_type": "markdown",
   "id": "020fb0dd-2069-4195-8db8-fc368f0ab1b2",
   "metadata": {},
   "source": [
    "# Ejercicio 6: Programación rientada a objetos"
   ]
  },
  {
   "cell_type": "markdown",
   "id": "7ba013c8-b99f-40ea-be68-aa83a7e3e9fb",
   "metadata": {},
   "source": [
    "Crear la clase alumno:\n",
    "- Nombre\n",
    "- Apellido\n",
    "- Dni\n",
    "- Notas (diccionario con clave la asignatura y como valor la nota media de esa asignatura)\n",
    "\n",
    "- estudiar() --> el estudiante -nombre- está estudiando -asignatura- (la asignatura obtenida aleatoriamente del diccionario).\n",
    "\n",
    "Crear tres alumnos y meterlos en una lista. Después, obtener nota media de cada alumno y luego la nota media de todos los alumnos. Esto último de manera tradicional y usando funciones lambda"
   ]
  },
  {
   "cell_type": "code",
   "execution_count": 1,
   "id": "f93eb98f-1128-4385-b862-cba20b57dfb4",
   "metadata": {},
   "outputs": [],
   "source": [
    "import random\n",
    "#Creamos la clase alumno\n",
    "class Alumno():\n",
    "    #Atributos\n",
    "    def __init__(self, nombre, apellido, dni, notas_asignaturas = {'Matemáticas':5, 'Literatura':5, 'Ingles':5}):\n",
    "        self.nombre = nombre\n",
    "        self.apellido = apellido\n",
    "        self.dni = dni\n",
    "        self.notas_asignaturas = notas_asignaturas\n",
    "        \n",
    "    #Funcionlaidad: Coge una asignatura al azar de su diccionario y dice que la está estudiando\n",
    "    def estudiar(self):\n",
    "        print('El estudiante {} está estudiando la asignatura {}'.format(self.nombre,random.choice(list(self.notas_asignaturas))) )"
   ]
  },
  {
   "cell_type": "markdown",
   "id": "c1e4389b-d7b1-43d3-b5b2-a174737dde33",
   "metadata": {},
   "source": [
    "Calculamos la media con la librería statistics.  \n",
    "Se me olvidó que había que meter a los alumnos en una lista. Está más abajo"
   ]
  },
  {
   "cell_type": "code",
   "execution_count": 2,
   "id": "cf456fc0-cda8-49e2-a0a1-c82e3bfa55cf",
   "metadata": {},
   "outputs": [
    {
     "name": "stdout",
     "output_type": "stream",
     "text": [
      "La nota media de Luis es 5\n",
      "La nota media de Pepe es 7.333333333333333\n",
      "La nota media de Manuela es 8.666666666666666\n",
      "La nota media de todos los alumnos es 7\n",
      "La nota media en matemáticas es de 7.333333333333333\n",
      "La nota media en matemáticas es de 7\n",
      "La nota media en matemáticas es de 6.666666666666667\n"
     ]
    }
   ],
   "source": [
    "import statistics\n",
    "#Creamos los tres estudiantes\n",
    "alumno1 = Alumno('Luis', 'Anadon', '111A',{'Matemáticas':5, 'Literatura':5, 'Ingles':5})\n",
    "alumno2 = Alumno('Pepe', 'Garcia', '222B',{'Matemáticas':9, 'Literatura':7, 'Ingles':6})\n",
    "alumno3 = Alumno('Manuela', 'Perez', '333C',{'Matemáticas':8, 'Literatura':9, 'Ingles':9})\n",
    "#Sacamos la nota media de cada uno\n",
    "print('La nota media de {} es {}'.format(alumno1.nombre,statistics.mean(alumno1.notas_asignaturas.values())))\n",
    "print('La nota media de {} es {}'.format(alumno2.nombre,statistics.mean(alumno2.notas_asignaturas.values())))\n",
    "print('La nota media de {} es {}'.format(alumno3.nombre,statistics.mean(alumno3.notas_asignaturas.values())))\n",
    "#La nota media entre los tres estudiantes\n",
    "print('La nota media de todos los alumnos es {}'.format(statistics.mean(list(alumno1.notas_asignaturas.values())+list(alumno2.notas_asignaturas.values())+list(alumno3.notas_asignaturas.values()))))\n",
    "#La nota media entre lso tres estudiantes de cada asignatura\n",
    "print('La nota media en matemáticas es de {}'.format(statistics.mean([alumno1.notas_asignaturas['Matemáticas'],alumno2.notas_asignaturas['Matemáticas'],alumno3.notas_asignaturas['Matemáticas']])))\n",
    "print('La nota media en matemáticas es de {}'.format(statistics.mean([alumno1.notas_asignaturas['Literatura'],alumno2.notas_asignaturas['Literatura'],alumno3.notas_asignaturas['Literatura']])))\n",
    "print('La nota media en matemáticas es de {}'.format(statistics.mean([alumno1.notas_asignaturas['Ingles'],alumno2.notas_asignaturas['Ingles'],alumno3.notas_asignaturas['Ingles']])))\n"
   ]
  },
  {
   "cell_type": "markdown",
   "id": "cc091ac3-1274-4fa9-b261-43b77f909304",
   "metadata": {},
   "source": [
    "Calculamos la media con un reduce y una funcion lambda. \n",
    "Se me olvidó que había que meter a los alumnos en una lista. Está más abajo"
   ]
  },
  {
   "cell_type": "code",
   "execution_count": 3,
   "id": "7625f6ea-cad9-4b9b-a127-40f2fd6b12ad",
   "metadata": {},
   "outputs": [
    {
     "name": "stdout",
     "output_type": "stream",
     "text": [
      "5.0\n",
      "7.333333333333333\n",
      "8.666666666666666\n",
      "7.0\n",
      "7.333333333333333\n",
      "7.0\n",
      "6.666666666666667\n"
     ]
    }
   ],
   "source": [
    "from functools import reduce\n",
    "\n",
    "#Creamos los tres estudiantes\n",
    "alumno1 = Alumno('Luis', 'Anadon', '111A',{'Matemáticas':5, 'Literatura':5, 'Ingles':5})\n",
    "alumno2 = Alumno('Pepe', 'Garcia', '222B',{'Matemáticas':9, 'Literatura':7, 'Ingles':6})\n",
    "alumno3 = Alumno('Manuela', 'Perez', '333C',{'Matemáticas':8, 'Literatura':9, 'Ingles':9})\n",
    "#Sacamos la nota media del alumno1\n",
    "print(reduce(lambda nota1,nota2 :nota1+nota2 , list(alumno1.notas_asignaturas.values()))/len(list(alumno1.notas_asignaturas.values())))\n",
    "\n",
    "#Sacamos la nota media del alumno2\n",
    "print(reduce(lambda nota1,nota2 :nota1+nota2 , list(alumno2.notas_asignaturas.values()))/len(list(alumno2.notas_asignaturas.values())))\n",
    "\n",
    "#Sacamos la nota media del alumno3\n",
    "print(reduce(lambda nota1,nota2 :nota1+nota2 , list(alumno3.notas_asignaturas.values()))/len(list(alumno3.notas_asignaturas.values())))\n",
    "\n",
    "#La nota media entre los tres estudiantes\n",
    "print(reduce(lambda nota1,nota2 :nota1+nota2 , list(alumno1.notas_asignaturas.values())+list(alumno2.notas_asignaturas.values())+list(alumno3.notas_asignaturas.values()))/len(list(alumno1.notas_asignaturas.values())+list(alumno2.notas_asignaturas.values())+list(alumno3.notas_asignaturas.values())))\n",
    "\n",
    "#La nota media en matemáticas de todos los alumnos\n",
    "print(reduce(lambda nota1,nota2 :nota1+nota2 , [alumno1.notas_asignaturas['Matemáticas'],alumno2.notas_asignaturas['Matemáticas'],alumno3.notas_asignaturas['Matemáticas']])/len([alumno1.notas_asignaturas['Matemáticas'],alumno2.notas_asignaturas['Matemáticas'],alumno3.notas_asignaturas['Matemáticas']]))\n",
    "\n",
    "#La nota media en matemáticas de todos los alumnos\n",
    "print(reduce(lambda nota1,nota2 :nota1+nota2 , [alumno1.notas_asignaturas['Literatura'],alumno2.notas_asignaturas['Literatura'],alumno3.notas_asignaturas['Literatura']])/len([alumno1.notas_asignaturas['Literatura'],alumno2.notas_asignaturas['Literatura'],alumno3.notas_asignaturas['Literatura']]))\n",
    "\n",
    "#La nota media en matemáticas de todos los alumnos\n",
    "print(reduce(lambda nota1,nota2 :nota1+nota2 , [alumno1.notas_asignaturas['Ingles'],alumno2.notas_asignaturas['Ingles'],alumno3.notas_asignaturas['Ingles']])/len([alumno1.notas_asignaturas['Ingles'],alumno2.notas_asignaturas['Ingles'],alumno3.notas_asignaturas['Ingles']]))"
   ]
  },
  {
   "cell_type": "markdown",
   "id": "6e8c8548-4204-4c37-873d-55b8519d05b8",
   "metadata": {},
   "source": [
    "Aquí está hecho metiendo a los alumnos en listas"
   ]
  },
  {
   "cell_type": "code",
   "execution_count": 15,
   "id": "02cfa288-223b-4cbf-8216-a3ff104a8a54",
   "metadata": {},
   "outputs": [
    {
     "name": "stdout",
     "output_type": "stream",
     "text": [
      "La nota media de Luis es 5\n",
      "La nota media de Pepe es 7.333333333333333\n",
      "La nota media de Manuela es 8.666666666666666\n",
      "La nota media de Luis es 5.0\n",
      "La nota media de Pepe es 7.333333333333333\n",
      "La nota media de Manuela es 8.666666666666666\n",
      "La nota media de todos los alumnos es 7\n",
      "7.0\n"
     ]
    }
   ],
   "source": [
    "from functools import reduce\n",
    "import statistics\n",
    "\n",
    "lista_alumnos = [alumno1, alumno2, alumno3]\n",
    "\n",
    "#Sacamos la nota media de cada uno a través del método mean\n",
    "print('La nota media de {} es {}'.format(lista_alumnos[0].nombre,statistics.mean(lista_alumnos[0].notas_asignaturas.values())))\n",
    "print('La nota media de {} es {}'.format(lista_alumnos[1].nombre,statistics.mean(lista_alumnos[1].notas_asignaturas.values())))\n",
    "print('La nota media de {} es {}'.format(lista_alumnos[2].nombre,statistics.mean(lista_alumnos[2].notas_asignaturas.values())))\n",
    "\n",
    "#Sacamos la nota media de cada uno a través de la función reduce y funciones lambda\n",
    "print('La nota media de {} es {}'.format(lista_alumnos[0].nombre,reduce(lambda nota1,nota2 :nota1+nota2 , list(lista_alumnos[0].notas_asignaturas.values()))/(len(list(lista_alumnos[0].notas_asignaturas.values())))))\n",
    "print('La nota media de {} es {}'.format(lista_alumnos[1].nombre,reduce(lambda nota1,nota2 :nota1+nota2 , list(lista_alumnos[1].notas_asignaturas.values()))/(len(list(lista_alumnos[1].notas_asignaturas.values())))))\n",
    "print('La nota media de {} es {}'.format(lista_alumnos[2].nombre,reduce(lambda nota1,nota2 :nota1+nota2 , list(lista_alumnos[2].notas_asignaturas.values()))/(len(list(lista_alumnos[2].notas_asignaturas.values())))))\n",
    "\n",
    "#La nota media de todos los alumnos usando el método mean\n",
    "print('La nota media de todos los alumnos es {}'.format(statistics.mean(list(lista_alumnos[0].notas_asignaturas.values())+list(lista_alumnos[1].notas_asignaturas.values())+list(lista_alumnos[2].notas_asignaturas.values()))))\n",
    "\n",
    "#La nota media de todos los alumnos usando reduce\n",
    "print('La nota media de todos los alumnos es {}'.format(statistics.mean(list(lista_alumnos[0].notas_asignaturas.values())+list(lista_alumnos[1].notas_asignaturas.values())+list(lista_alumnos[2].notas_asignaturas.values()))))\n",
    "print(reduce(lambda nota1,nota2 :nota1+nota2 , list(alumno1.notas_asignaturas.values())+list(alumno2.notas_asignaturas.values())+list(alumno3.notas_asignaturas.values()))/len(list(alumno1.notas_asignaturas.values())+list(alumno2.notas_asignaturas.values())+list(alumno3.notas_asignaturas.values())))"
   ]
  },
  {
   "cell_type": "code",
   "execution_count": null,
   "id": "f5de0300-8494-40d0-b5e0-c70238808f80",
   "metadata": {},
   "outputs": [],
   "source": []
  }
 ],
 "metadata": {
  "kernelspec": {
   "display_name": "Python 3 (ipykernel)",
   "language": "python",
   "name": "python3"
  },
  "language_info": {
   "codemirror_mode": {
    "name": "ipython",
    "version": 3
   },
   "file_extension": ".py",
   "mimetype": "text/x-python",
   "name": "python",
   "nbconvert_exporter": "python",
   "pygments_lexer": "ipython3",
   "version": "3.9.13"
  }
 },
 "nbformat": 4,
 "nbformat_minor": 5
}
