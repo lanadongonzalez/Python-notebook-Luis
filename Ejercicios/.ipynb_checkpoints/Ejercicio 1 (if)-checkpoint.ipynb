{
 "cells": [
  {
   "cell_type": "markdown",
   "id": "998cee43-dc0e-4923-a6f7-563816f41fd5",
   "metadata": {},
   "source": [
    "## Ejercicio 1"
   ]
  },
  {
   "cell_type": "markdown",
   "id": "111fa386-7ea5-45ca-8236-b5fecfdddadc",
   "metadata": {},
   "source": [
    "Pintar menu mientras que la opcion sea diferente de 4.\n",
    "\n",
    "1. Pintar cuadrado --> \"Has seleccionado la opcion 1\"\n",
    "2. Validar email --> \"Has seleccionado la opcion 2\"\n",
    "3. Insertar alumnos --> \"Has seleccionado la opcion 3\"\n",
    "4. Salir --> \"Has seleccionado la opcion 4. Adios!\"\n",
    "\n",
    "Ótra opcion --> opcion incorrecta \n",
    "\n",
    "Seleccione una opcion:\n"
   ]
  },
  {
   "cell_type": "code",
   "execution_count": null,
   "id": "a639f83c",
   "metadata": {},
   "outputs": [],
   "source": [
    "opcion = 0\n",
    "\n",
    "while opcion != '4':\n",
    "    \n",
    "    print(\"¿Qué opción desea ejecutar? Por favor, escriba el número correspondiente\\n 1. Pintar un cuadrado\\n 2. Validar email\\n 3. Insertar alumno\\n 4. Salir\")\n",
    "    \n",
    "    opcion = input()\n",
    "    \n",
    "    if opcion == '1':\n",
    "        print(\"Has seleccionado la opción 1\")\n",
    "    elif opcion == '2':\n",
    "        print(\"Has seleccionado la opción 2\")\n",
    "    elif opcion == '3':\n",
    "        print(\"Has seleccionado la opción 3\")\n",
    "    elif opcion == '4':\n",
    "        print(\"Has seleccionado la opción 4. ¡Adios!\")\n",
    "    else: \n",
    "        print(\"Seleccione una opción correcta\")\n",
    "        "
   ]
  },
  {
   "cell_type": "code",
   "execution_count": null,
   "id": "523938e0-c6a8-4eb8-9919-ca1bbc4dd1b0",
   "metadata": {},
   "outputs": [],
   "source": []
  }
 ],
 "metadata": {
  "kernelspec": {
   "display_name": "Python 3 (ipykernel)",
   "language": "python",
   "name": "python3"
  },
  "language_info": {
   "codemirror_mode": {
    "name": "ipython",
    "version": 3
   },
   "file_extension": ".py",
   "mimetype": "text/x-python",
   "name": "python",
   "nbconvert_exporter": "python",
   "pygments_lexer": "ipython3",
   "version": "3.9.13"
  }
 },
 "nbformat": 4,
 "nbformat_minor": 5
}
