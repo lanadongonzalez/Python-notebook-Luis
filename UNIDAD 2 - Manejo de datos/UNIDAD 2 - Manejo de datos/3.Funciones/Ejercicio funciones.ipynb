{
 "cells": [
  {
   "cell_type": "markdown",
   "id": "1aaf8600-fc7c-4a31-aba8-d25b39b2f9f6",
   "metadata": {},
   "source": [
    "## De momento es una prueba para probar GitHub"
   ]
  }
 ],
 "metadata": {
  "kernelspec": {
   "display_name": "Python 3 (ipykernel)",
   "language": "python",
   "name": "python3"
  },
  "language_info": {
   "codemirror_mode": {
    "name": "ipython",
    "version": 3
   },
   "file_extension": ".py",
   "mimetype": "text/x-python",
   "name": "python",
   "nbconvert_exporter": "python",
   "pygments_lexer": "ipython3",
   "version": "3.9.13"
  }
 },
 "nbformat": 4,
 "nbformat_minor": 5
}
