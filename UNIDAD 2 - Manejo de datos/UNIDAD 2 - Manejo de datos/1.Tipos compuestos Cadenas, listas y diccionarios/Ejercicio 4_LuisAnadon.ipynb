{
 "cells": [
  {
   "cell_type": "markdown",
   "id": "b8674200-99d6-4043-a2a9-df1bf78d5cf9",
   "metadata": {},
   "source": [
    "## Ejercicio: Colecciones colegio (diccionarios y listas)"
   ]
  },
  {
   "cell_type": "markdown",
   "id": "c37011c4-64aa-4dae-b5b8-890b035bb6b0",
   "metadata": {},
   "source": [
    "#### Vamos a gestionar un colegio que va a tener 3 aulas.\n",
    "#### Crearemos el menú:\n",
    "#### 1. Insertar alumno (que el usuario elija el aula). Exigiremos DNI, nombre y apellidos.\n",
    "#### 2. Mostrar alumnos colegio --> Todos los alumnos del colegio por aulaMostrar alumnos colegio --> Todos los alumnos del colegio por aula\n",
    "#### 3. Mostrar alumnos aula --> Pregunta de que aula quiere mostrar los alumnos (1,2,3)Mostrar alumnos aula --> Pregunta de que aula quiere mostrar los alumnos (1,2,3)\n",
    "#### 4. Buscar alumno --> Pregunta por el DNI --> Muestra en el aula que esta el alumno con ese DNI, si existeBuscar alumno --> Pregunta por el DNI --> Muestra en el aula que esta el alumno con ese DNI, si existe\n",
    "#### 5. Salir\n",
    "\n"
   ]
  },
  {
   "cell_type": "code",
   "execution_count": 3,
   "id": "920b2644-6809-4d16-adb5-54fb1611d75c",
   "metadata": {},
   "outputs": [
    {
     "name": "stdout",
     "output_type": "stream",
     "text": [
      "¿Qué opción desea ejecutar? Por favor, escriba el número correspondiente\n",
      " 1. Insertar alumno\n",
      " 2. Mostrar alumnos colegio\n",
      " 3. Mostrar alumnos aula\n",
      " 4. Buscar alumno 5.Salir\n"
     ]
    },
    {
     "name": "stdin",
     "output_type": "stream",
     "text": [
      " 2\n"
     ]
    },
    {
     "name": "stdout",
     "output_type": "stream",
     "text": [
      "Estos son todos los alumnos del colegio:\n",
      "[{'123456789Y': ['Luis', 'Anadón', 'González'], '1234': ['Eva', 'Martín', 'García']}, {'4567': ['luci', 'san', 'gon']}, {'45678': ['roci', 'berlanga', 'camus']}]\n",
      "¿Qué opción desea ejecutar? Por favor, escriba el número correspondiente\n",
      " 1. Insertar alumno\n",
      " 2. Mostrar alumnos colegio\n",
      " 3. Mostrar alumnos aula\n",
      " 4. Buscar alumno 5.Salir\n"
     ]
    },
    {
     "name": "stdin",
     "output_type": "stream",
     "text": [
      " 5\n"
     ]
    },
    {
     "name": "stdout",
     "output_type": "stream",
     "text": [
      "Has seleccionado la opción 5. ¡Adios!\n"
     ]
    }
   ],
   "source": [
    "opcion = 0\n",
    "colegio = [{'123456789Y':['Luis', 'Anadón', 'González'], '1234':['Eva', 'Martín', 'García']},{'4567':['luci','san', 'gon']},{'45678':['roci','berlanga', 'camus']}]\n",
    "\n",
    "while opcion != '5':\n",
    "    print(\"¿Qué opción desea ejecutar? Por favor, escriba el número correspondiente\\n 1. Insertar alumno\\n 2. Mostrar alumnos colegio\\n 3. Mostrar alumnos aula\\n 4. Buscar alumno 5.Salir\")\n",
    "    opcion = input()\n",
    "    \n",
    "    if opcion == '1':\n",
    "        print(\"Has elegido inserta un alumno. Rellene los siguientes datos\")\n",
    "        aula = input(\"Elija el aula del alumno (1, 2 o 3)\")\n",
    "        if ((aula == '1') or (aula == '2') or (aula == '3')):\n",
    "            dni = input(\"Escriba el DNI del alumno\")\n",
    "            nombre = input(\"Escriba el nombre del alumno\")\n",
    "            apellido = input(\"Escriba el primer apellido del alumno\")\n",
    "            apellido2 = input(\"Escriba el segundo apellido del alumno\")\n",
    "            colegio[int(aula)-1][dni] = [nombre, apellido, apellido2]\n",
    "        else:\n",
    "            print(\"Escoja un aula existente\")\n",
    "        \n",
    "        \n",
    "        \n",
    "    elif opcion == '2':\n",
    "        print(\"Estos son todos los alumnos del colegio:\")\n",
    "        print(colegio)\n",
    "            \n",
    "    elif opcion == '3':\n",
    "        aula = input(\"Elija el aula del alumno (1, 2 o 3)\")\n",
    "\n",
    "        if (aula == '1') or (aula == '2') or (aula == '3'):\n",
    "            print(\"Estos son los alumnos del aula\" + str(aula))\n",
    "            print (colegio[int(aula)-1])\n",
    "        else:\n",
    "            print(\"Escoja un aula existente\")\n",
    "                   \n",
    "                   \n",
    "    elif opcion == '4':\n",
    "        dni_alumno = input(\"Escriba el DNI del alumno\")\n",
    "        datos_alumno = {}\n",
    "        for aula in colegio:\n",
    "            for dni in aula:\n",
    "                   if dni == dni_alumno:\n",
    "                        datos_alumno[datos] = dni\n",
    "        if datos_alumno == {}:\n",
    "                   print(\"El DNI introducido no está en nuestra base de datos\")\n",
    "        else:\n",
    "                    print(datos_alumno)\n",
    "        \n",
    "    else: \n",
    "        print(\"Has seleccionado la opción 5. ¡Adios!\")"
   ]
  },
  {
   "cell_type": "code",
   "execution_count": null,
   "id": "bc971cdd-15f4-4258-8e3a-a39b612a12c9",
   "metadata": {},
   "outputs": [],
   "source": []
  }
 ],
 "metadata": {
  "kernelspec": {
   "display_name": "Python 3 (ipykernel)",
   "language": "python",
   "name": "python3"
  },
  "language_info": {
   "codemirror_mode": {
    "name": "ipython",
    "version": 3
   },
   "file_extension": ".py",
   "mimetype": "text/x-python",
   "name": "python",
   "nbconvert_exporter": "python",
   "pygments_lexer": "ipython3",
   "version": "3.9.13"
  }
 },
 "nbformat": 4,
 "nbformat_minor": 5
}
