{
 "cells": [
  {
   "cell_type": "markdown",
   "id": "7e23816d-d0a0-4426-add0-9baaec3debdc",
   "metadata": {},
   "source": [
    "# Ejercicio 5 funciones lambda"
   ]
  },
  {
   "cell_type": "markdown",
   "id": "f42ad76b-45bf-43f3-bc51-6455db17c58b",
   "metadata": {},
   "source": [
    "A partir del siguiente listado de emails:\n",
    "lista_emails = [\"asdasdas.es\",\"asdas asdsdsa@sda.e\",\"asdasd@asdas@asdsad.es\", \"asdad@a.es\", \"a sgsdfsd@a.esfa.sfasdf\", \"asdas.dasd@as.dsfd.as.es \"]\n",
    "- obtener, los nombres de usuario de aquellos emails que sean validos (valido: 1@, no tiene espacios en blanco, despues de la @ hay 1 punto)\n",
    "- indicar el número de emails validos que hay dentro del listado"
   ]
  },
  {
   "cell_type": "code",
   "execution_count": 1,
   "id": "9a869572-cb1a-4d46-b5e3-0d7bacb80ba2",
   "metadata": {},
   "outputs": [
    {
     "name": "stdout",
     "output_type": "stream",
     "text": [
      "['asdasdas.es', 'asdas asdsdsa@sda.e', 'asdasd@asdas@asdsad.es', 'asdad@a.es', 'a sgsdfsd@a.esfa.sfasdf', 'asdas.dasd@as.dsfd.as.es']\n",
      "['asdas asdsdsa@sda.e', 'asdad@a.es', 'a sgsdfsd@a.esfa.sfasdf', 'asdas.dasd@as.dsfd.as.es']\n",
      "['asdad@a.es', 'asdas.dasd@as.dsfd.as.es']\n",
      "['asdad@a.es']\n",
      "1\n"
     ]
    }
   ],
   "source": [
    "lista_emails = [\"asdasdas.es\",\"asdas asdsdsa@sda.e\",\"asdasd@asdas@asdsad.es\", \"asdad@a.es\", \"a sgsdfsd@a.esfa.sfasdf\", \"asdas.dasd@as.dsfd.as.es \"]\n",
    "#Quitamos espacios en blanco al principio y al final\n",
    "lista_emails = list(map(lambda x: x.strip(), lista_emails))\n",
    "print(lista_emails)\n",
    "#Comprobamos que los emails tienen exactamente un @\n",
    "lista_emails = list(filter(lambda x: x.count(\"@\")==1, lista_emails)) \n",
    "print(lista_emails)\n",
    "#Comprobamos que los emails resultantes no tienen espacios en blanco\n",
    "lista_emails = list(filter(lambda x: x.count(\" \")==0, lista_emails)) \n",
    "print(lista_emails)\n",
    "#Comprobamos que los emails resultantes tienen exactamente un punto después del @\n",
    "lista_emails = list(filter(lambda x: x.split(\"@\")[-1].count(\".\")==1, lista_emails)) \n",
    "print(lista_emails)\n",
    "print(len(lista_emails))"
   ]
  },
  {
   "cell_type": "code",
   "execution_count": 2,
   "id": "a908e8bd-796b-4828-b218-f3807ba453da",
   "metadata": {},
   "outputs": [
    {
     "name": "stdout",
     "output_type": "stream",
     "text": [
      "['asdad@a.es']\n",
      "1\n"
     ]
    }
   ],
   "source": [
    "lista_emails = [\"asdasdas.es\",\"asdas asdsdsa@sda.e\",\"asdasd@asdas@asdsad.es\", \"asdad@a.es\", \"a sgsdfsd@a.esfa.sfasdf\", \"asdas.dasd@as.dsfd.as.es \"]\n",
    "#En este caso hacemos todas las validaciones a la vez.\n",
    "#Primero le pasamos la lista original a la función filter y esta lista resultante a la siguiente y así sucesivamente\n",
    "lista_emails = list(filter(lambda x: x.split(\"@\")[-1].count(\".\")==1, \n",
    "                           list(filter(lambda x: x.count(\" \")==0, \n",
    "                                       list(filter(lambda x: x.count(\"@\")==1, \n",
    "                                                   list(map(lambda x: x.strip(), lista_emails))))))))\n",
    "print(lista_emails)\n",
    "print(len(lista_emails))"
   ]
  },
  {
   "cell_type": "code",
   "execution_count": null,
   "id": "6d0be07e-3c2d-4c0a-908a-84dd43a0cabd",
   "metadata": {},
   "outputs": [],
   "source": []
  }
 ],
 "metadata": {
  "kernelspec": {
   "display_name": "Python 3 (ipykernel)",
   "language": "python",
   "name": "python3"
  },
  "language_info": {
   "codemirror_mode": {
    "name": "ipython",
    "version": 3
   },
   "file_extension": ".py",
   "mimetype": "text/x-python",
   "name": "python",
   "nbconvert_exporter": "python",
   "pygments_lexer": "ipython3",
   "version": "3.9.13"
  }
 },
 "nbformat": 4,
 "nbformat_minor": 5
}
