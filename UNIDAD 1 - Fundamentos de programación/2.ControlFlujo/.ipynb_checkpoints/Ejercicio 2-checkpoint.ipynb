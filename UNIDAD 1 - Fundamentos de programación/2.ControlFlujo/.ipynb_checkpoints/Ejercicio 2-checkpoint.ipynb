{
 "cells": [
  {
   "cell_type": "markdown",
   "id": "8ead208c",
   "metadata": {},
   "source": [
    "## Ejercicio 2"
   ]
  },
  {
   "cell_type": "code",
   "execution_count": null,
   "id": "aa43deea",
   "metadata": {
    "scrolled": true
   },
   "outputs": [],
   "source": [
    "opcion = 0\n",
    "\n",
    "while opcion != '4':\n",
    "    print(\"¿Qué opción desea ejecutar? Por favor, escriba el número correspondiente\\n 1. Pintar un cuadrado\\n 2. Validar email\\n 3. Insertar alumno\\n 4. Salir\")\n",
    "    opcion = input()\n",
    "    if opcion == '1':\n",
    "        print(\"Has seleccionado la opción 1\")\n",
    "        size = int(input(\"Indique el tamaño del cuadrado\"))\n",
    "        caracter = input(\"Indique el caracter deseado para el lado\" )\n",
    "        for i in range(size):\n",
    "            if (i == 0) or (i == size - 1):\n",
    "                print(size*caracter)\n",
    "            else:\n",
    "                print(caracter + (size-2)*' ' + caracter)\n",
    "    elif opcion == '2':\n",
    "        print(\"Has seleccionado la opción 2\")\n",
    "    elif opcion == '3':\n",
    "        print(\"Has seleccionado la opción 3\")\n",
    "    elif opcion == '4':\n",
    "        print(\"Has seleccionado la opción 4. ¡Adios!\")\n",
    "    else: \n",
    "        print(\"Seleccione una opción correcta\")"
   ]
  },
  {
   "cell_type": "code",
   "execution_count": null,
   "id": "dd6cb23e",
   "metadata": {},
   "outputs": [],
   "source": []
  },
  {
   "cell_type": "code",
   "execution_count": null,
   "id": "38d2c796",
   "metadata": {},
   "outputs": [],
   "source": []
  }
 ],
 "metadata": {
  "kernelspec": {
   "display_name": "Python 3 (ipykernel)",
   "language": "python",
   "name": "python3"
  },
  "language_info": {
   "codemirror_mode": {
    "name": "ipython",
    "version": 3
   },
   "file_extension": ".py",
   "mimetype": "text/x-python",
   "name": "python",
   "nbconvert_exporter": "python",
   "pygments_lexer": "ipython3",
   "version": "3.9.13"
  }
 },
 "nbformat": 4,
 "nbformat_minor": 5
}
