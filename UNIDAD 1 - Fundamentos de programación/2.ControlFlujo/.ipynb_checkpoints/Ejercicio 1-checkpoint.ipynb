{
 "cells": [
  {
   "cell_type": "code",
   "execution_count": 10,
   "id": "a639f83c",
   "metadata": {},
   "outputs": [
    {
     "name": "stdout",
     "output_type": "stream",
     "text": [
      "¿Qué opción desea ejecutar? Por favor, escriba el número correspondiente\n",
      " 1. Pintar un cuadrado\n",
      " 2. Validar email\n",
      " 3. Insertar alumno\n",
      " 4. Salir\n",
      "1\n",
      "Has seleccionado la opción 1\n",
      "¿Qué opción desea ejecutar? Por favor, escriba el número correspondiente\n",
      " 1. Pintar un cuadrado\n",
      " 2. Validar email\n",
      " 3. Insertar alumno\n",
      " 4. Salir\n",
      "2\n",
      "Has seleccionado la opción 2\n",
      "¿Qué opción desea ejecutar? Por favor, escriba el número correspondiente\n",
      " 1. Pintar un cuadrado\n",
      " 2. Validar email\n",
      " 3. Insertar alumno\n",
      " 4. Salir\n",
      "3\n",
      "Has seleccionado la opción 3\n",
      "¿Qué opción desea ejecutar? Por favor, escriba el número correspondiente\n",
      " 1. Pintar un cuadrado\n",
      " 2. Validar email\n",
      " 3. Insertar alumno\n",
      " 4. Salir\n",
      "5\n",
      "Seleccione una opción correcta\n",
      "¿Qué opción desea ejecutar? Por favor, escriba el número correspondiente\n",
      " 1. Pintar un cuadrado\n",
      " 2. Validar email\n",
      " 3. Insertar alumno\n",
      " 4. Salir\n",
      "4\n",
      "Has seleccionado la opción 4. ¡Adios!\n"
     ]
    }
   ],
   "source": [
    "opcion = 0\n",
    "\n",
    "while opcion != '4':\n",
    "    print(\"¿Qué opción desea ejecutar? Por favor, escriba el número correspondiente\\n 1. Pintar un cuadrado\\n 2. Validar email\\n 3. Insertar alumno\\n 4. Salir\")\n",
    "    opcion = input()\n",
    "    if opcion == '1':\n",
    "        print(\"Has seleccionado la opción 1\")\n",
    "    elif opcion == '2':\n",
    "        print(\"Has seleccionado la opción 2\")\n",
    "    elif opcion == '3':\n",
    "        print(\"Has seleccionado la opción 3\")\n",
    "    elif opcion == '4':\n",
    "        print(\"Has seleccionado la opción 4. ¡Adios!\")\n",
    "    else: \n",
    "        print(\"Seleccione una opción correcta\")"
   ]
  },
  {
   "cell_type": "code",
   "execution_count": null,
   "id": "50c29016",
   "metadata": {},
   "outputs": [],
   "source": []
  }
 ],
 "metadata": {
  "kernelspec": {
   "display_name": "Python 3 (ipykernel)",
   "language": "python",
   "name": "python3"
  },
  "language_info": {
   "codemirror_mode": {
    "name": "ipython",
    "version": 3
   },
   "file_extension": ".py",
   "mimetype": "text/x-python",
   "name": "python",
   "nbconvert_exporter": "python",
   "pygments_lexer": "ipython3",
   "version": "3.9.13"
  }
 },
 "nbformat": 4,
 "nbformat_minor": 5
}
