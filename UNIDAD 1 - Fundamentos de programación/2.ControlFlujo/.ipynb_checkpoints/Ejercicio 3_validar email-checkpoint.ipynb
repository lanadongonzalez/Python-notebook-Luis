{
 "cells": [
  {
   "cell_type": "markdown",
   "id": "7e12fb42-3c5d-475b-87b5-3ad94e9cb433",
   "metadata": {},
   "source": [
    "## Ejercicio 3\n",
    "\n",
    "##### Lista con 3 emails y validar cada uno de ellos. Si alguno no es correcto, determinar por qué. Las validaciones son:\n",
    "\n",
    "#####    - No puede tener espacios en blanco\n",
    "#####    - Debe tener solo un @\n",
    "#####    - Después del @tiene que haber al menos un punto.\n",
    "#####    - La distancia entre el @ y el punto tiene que ser al menos de dos caracteres\n",
    "#####    - Después del último punto tiene que haber entre dos y cinco caracteres"
   ]
  },
  {
   "cell_type": "code",
   "execution_count": 1,
   "id": "0d87cb3e-ef6b-4033-ab6c-23af2f2978de",
   "metadata": {},
   "outputs": [
    {
     "name": "stdout",
     "output_type": "stream",
     "text": [
      "¿Qué opción desea ejecutar? Por favor, escriba el número correspondiente\n",
      " 1. Pintar un cuadrado\n",
      " 2. Validar email\n",
      " 3. Insertar alumno\n",
      " 4. Salir\n"
     ]
    },
    {
     "name": "stdin",
     "output_type": "stream",
     "text": [
      " 2\n"
     ]
    },
    {
     "name": "stdout",
     "output_type": "stream",
     "text": [
      "Has seleccionado la opción 2\n",
      "El emaillalal @gogo@asd.hfh.s tiene algún espacio en blanco\n",
      "El emaillalal @gogo@asd.hfh.s tiene una cantidad inadecuada de @\n",
      "El emaillalal @gogo@asd.hfh.s tiene un dominio inadecuado. Es muy largo o muy corto\n",
      "¿Qué opción desea ejecutar? Por favor, escriba el número correspondiente\n",
      " 1. Pintar un cuadrado\n",
      " 2. Validar email\n",
      " 3. Insertar alumno\n",
      " 4. Salir\n"
     ]
    },
    {
     "name": "stdin",
     "output_type": "stream",
     "text": [
      " 4\n"
     ]
    },
    {
     "name": "stdout",
     "output_type": "stream",
     "text": [
      "Has seleccionado la opción 4. ¡Adios!\n"
     ]
    }
   ],
   "source": [
    "opcion = 0\n",
    "\n",
    "while opcion != '4':\n",
    "    print(\"¿Qué opción desea ejecutar? Por favor, escriba el número correspondiente\\n 1. Pintar un cuadrado\\n 2. Validar email\\n 3. Insertar alumno\\n 4. Salir\")\n",
    "    opcion = input()\n",
    "    \n",
    "    if opcion == '1':\n",
    "        print(\"Has seleccionado la opción 1\")\n",
    "        size = int(input(\"Indique el tamaño del cuadrado\"))\n",
    "        caracter = input(\"Indique el caracter deseado para el lado\" )\n",
    "        for i in range(size):\n",
    "            if (i == 0) or (i == size - 1):\n",
    "                print(size*caracter)\n",
    "            else:\n",
    "                print(caracter + (size-2)*' ' + caracter)\n",
    "\n",
    "                \n",
    "    elif opcion == '2':\n",
    "        lista_mail = [\"lalal @gogo@asd.hfh.s\", \"lana@gmail.com\", \"sdfh@dskfjskmg.eee\"]\n",
    "        print(\"Has seleccionado la opción 2\")\n",
    "        for email in lista_mail:\n",
    "            email = email.strip()\n",
    "            if email.count(\" \") > 0:\n",
    "                #text_blank_space = \"\"\n",
    "                print(\"El email\" + email + \" tiene algún espacio en blanco\")\n",
    "            else:\n",
    "                pass\n",
    "                #text_blank_space = \"El email\" + email + \"tiene un espacio en blanco\"\n",
    "            if email.count(\"@\") == 1:\n",
    "                #text_a = \"\"\n",
    "                pass\n",
    "            else:\n",
    "                #text_a = \"El email\" + email + \"tiene una cantidad inadecuada de @\"\n",
    "                print(\"El email\" + email + \" tiene una cantidad inadecuada de @\")\n",
    "            email_dividido = email.split(\"@\")\n",
    "            if email_dividido[-1].find(\".\") == -1:\n",
    "                #text_dot = \"El email\" + email + \"no tiene punto para expresar el dominio\"\n",
    "                print(\"El email\" + email + \" no tiene punto para expresar el dominio\")\n",
    "            else:\n",
    "                #text_dot = \"\"\n",
    "                pass\n",
    "            dominio_dividido = email_dividido[-1].split(\".\")\n",
    "            if len(dominio_dividido[0])>=2:\n",
    "                #text_domain_short = \"\"\n",
    "                pass\n",
    "            else:\n",
    "                #text_domain_short = \"El email\" + email + \"tiene un dominio muy corto\"\n",
    "                print(\"El email\" + email + \" tiene un dominio muy corto\")\n",
    "            if (len(dominio_dividido[-1])>=2) and (len(dominio_dividido[-1])<=5):\n",
    "                #text_domain = \"\"\n",
    "                pass\n",
    "            else:\n",
    "                #text_domain = \"El email\" + email + \"tiene un dominio inadecuado. Es muy largo o muy corto\"\n",
    "                print(\"El email\" + email + \" tiene un dominio inadecuado. Es muy largo o muy corto\")\n",
    "            #print(text_blank_space)\n",
    "            #print(text_a)\n",
    "            #print(text_dot)\n",
    "            #print(text_domain_short)\n",
    "            #print(text_domain)\n",
    "            \n",
    "            \n",
    "    elif opcion == '3':\n",
    "        print(\"Has seleccionado la opción 3\")\n",
    "        \n",
    "        \n",
    "    elif opcion == '4':\n",
    "        print(\"Has seleccionado la opción 4. ¡Adios!\")\n",
    "        \n",
    "        \n",
    "    else: \n",
    "        print(\"Seleccione una opción correcta\")"
   ]
  },
  {
   "cell_type": "code",
   "execution_count": null,
   "id": "0ad00b03-116d-4d15-a968-c9e05c864191",
   "metadata": {},
   "outputs": [],
   "source": []
  }
 ],
 "metadata": {
  "kernelspec": {
   "display_name": "Python 3 (ipykernel)",
   "language": "python",
   "name": "python3"
  },
  "language_info": {
   "codemirror_mode": {
    "name": "ipython",
    "version": 3
   },
   "file_extension": ".py",
   "mimetype": "text/x-python",
   "name": "python",
   "nbconvert_exporter": "python",
   "pygments_lexer": "ipython3",
   "version": "3.9.13"
  }
 },
 "nbformat": 4,
 "nbformat_minor": 5
}
